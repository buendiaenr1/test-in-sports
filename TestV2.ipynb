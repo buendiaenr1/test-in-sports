{
 "cells": [
  {
   "cell_type": "markdown",
   "metadata": {},
   "source": [
    "## Benemérita Universidad Autónoma de Puebla, México.\n",
    "### Julia V1.5.0\n",
    "#### Dr. Enrique Ricardo Pablo Buendia Lozada\n",
    "\n",
    "Estadística para la validación de Pruebas en:\n",
    "- Cultura Física, \n",
    "- Educación Física,\n",
    "- Fisioterapia, \n",
    "- Recreación, \n",
    "- Ciencias de la actividad Física, \n",
    "- Deportes, \n",
    "- entre otras.\n",
    "\n",
    "##### Versión: V1 Julia 1.5.0\n",
    "##### Caso: Paramétrico\n",
    "##### Febrero 2021"
   ]
  },
  {
   "cell_type": "code",
   "execution_count": 1,
   "metadata": {},
   "outputs": [],
   "source": [
    "using Gadfly, Cairo"
   ]
  },
  {
   "cell_type": "code",
   "execution_count": 2,
   "metadata": {},
   "outputs": [],
   "source": [
    "using Statistics, Distributions"
   ]
  },
  {
   "cell_type": "code",
   "execution_count": 3,
   "metadata": {},
   "outputs": [],
   "source": [
    "using CSV, DataFrames"
   ]
  },
  {
   "cell_type": "code",
   "execution_count": 4,
   "metadata": {},
   "outputs": [],
   "source": [
    "using SimpleANOVA"
   ]
  },
  {
   "cell_type": "code",
   "execution_count": 5,
   "metadata": {},
   "outputs": [
    {
     "data": {
      "text/html": [
       "<table class=\"data-frame\"><thead><tr><th></th><th>Column1</th><th>Column2</th><th>Column3</th></tr><tr><th></th><th>Int64</th><th>Float64</th><th>Float64</th></tr></thead><tbody><p>13 rows × 3 columns</p><tr><th>1</th><td>1</td><td>1.1</td><td>0.89</td></tr><tr><th>2</th><td>2</td><td>1.9</td><td>2.0001</td></tr><tr><th>3</th><td>3</td><td>2.9</td><td>3.001</td></tr><tr><th>4</th><td>4</td><td>3.9</td><td>4.001</td></tr><tr><th>5</th><td>5</td><td>4.9</td><td>5.0001</td></tr><tr><th>6</th><td>6</td><td>5.9</td><td>6.001</td></tr><tr><th>7</th><td>7</td><td>7.0</td><td>7.0</td></tr><tr><th>8</th><td>6</td><td>6.0</td><td>5.8999</td></tr><tr><th>9</th><td>5</td><td>5.0</td><td>4.899</td></tr><tr><th>10</th><td>4</td><td>4.1</td><td>3.889</td></tr><tr><th>11</th><td>3</td><td>3.0</td><td>2.8</td></tr><tr><th>12</th><td>2</td><td>2.0</td><td>1.8</td></tr><tr><th>13</th><td>1</td><td>1.0</td><td>1.0</td></tr></tbody></table>"
      ],
      "text/latex": [
       "\\begin{tabular}{r|ccc}\n",
       "\t& Column1 & Column2 & Column3\\\\\n",
       "\t\\hline\n",
       "\t& Int64 & Float64 & Float64\\\\\n",
       "\t\\hline\n",
       "\t1 & 1 & 1.1 & 0.89 \\\\\n",
       "\t2 & 2 & 1.9 & 2.0001 \\\\\n",
       "\t3 & 3 & 2.9 & 3.001 \\\\\n",
       "\t4 & 4 & 3.9 & 4.001 \\\\\n",
       "\t5 & 5 & 4.9 & 5.0001 \\\\\n",
       "\t6 & 6 & 5.9 & 6.001 \\\\\n",
       "\t7 & 7 & 7.0 & 7.0 \\\\\n",
       "\t8 & 6 & 6.0 & 5.8999 \\\\\n",
       "\t9 & 5 & 5.0 & 4.899 \\\\\n",
       "\t10 & 4 & 4.1 & 3.889 \\\\\n",
       "\t11 & 3 & 3.0 & 2.8 \\\\\n",
       "\t12 & 2 & 2.0 & 1.8 \\\\\n",
       "\t13 & 1 & 1.0 & 1.0 \\\\\n",
       "\\end{tabular}\n"
      ],
      "text/plain": [
       "13×3 DataFrame\n",
       "│ Row │ Column1 │ Column2 │ Column3 │\n",
       "│     │ \u001b[90mInt64\u001b[39m   │ \u001b[90mFloat64\u001b[39m │ \u001b[90mFloat64\u001b[39m │\n",
       "├─────┼─────────┼─────────┼─────────┤\n",
       "│ 1   │ 1       │ 1.1     │ 0.89    │\n",
       "│ 2   │ 2       │ 1.9     │ 2.0001  │\n",
       "│ 3   │ 3       │ 2.9     │ 3.001   │\n",
       "│ 4   │ 4       │ 3.9     │ 4.001   │\n",
       "│ 5   │ 5       │ 4.9     │ 5.0001  │\n",
       "│ 6   │ 6       │ 5.9     │ 6.001   │\n",
       "│ 7   │ 7       │ 7.0     │ 7.0     │\n",
       "│ 8   │ 6       │ 6.0     │ 5.8999  │\n",
       "│ 9   │ 5       │ 5.0     │ 4.899   │\n",
       "│ 10  │ 4       │ 4.1     │ 3.889   │\n",
       "│ 11  │ 3       │ 3.0     │ 2.8     │\n",
       "│ 12  │ 2       │ 2.0     │ 1.8     │\n",
       "│ 13  │ 1       │ 1.0     │ 1.0     │"
      ]
     },
     "execution_count": 5,
     "metadata": {},
     "output_type": "execute_result"
    }
   ],
   "source": [
    "df=CSV.read(\"datos.csv\";header=false)      # Ejemplo"
   ]
  },
  {
   "cell_type": "code",
   "execution_count": 6,
   "metadata": {},
   "outputs": [],
   "source": [
    "#names(df)\n",
    "#rename!(df,[\"c1\",\"c2\",\"c3\"])              # se puede omitir, pues no importan los títulos"
   ]
  },
  {
   "cell_type": "code",
   "execution_count": null,
   "metadata": {},
   "outputs": [],
   "source": []
  },
  {
   "cell_type": "code",
   "execution_count": 7,
   "metadata": {},
   "outputs": [
    {
     "data": {
      "text/plain": [
       "bland_altman (generic function with 1 method)"
      ]
     },
     "execution_count": 7,
     "metadata": {},
     "output_type": "execute_result"
    }
   ],
   "source": [
    "## Bland - Altman\n",
    "\n",
    "function bland_altman(x,y,i,j)\n",
    "    \n",
    "    n1=length(x)\n",
    "    n2=length(y)\n",
    "    if n1==n2 \n",
    "        mn=0.5*(x+y)\n",
    "        dd=x-y\n",
    "        md=sum(dd)./length(dd)\n",
    "       \n",
    "        vd=var(dd)\n",
    "        \n",
    "        ls=md+2*(vd)^(0.5)\n",
    "        li=md-2*(vd)^(0.5)\n",
    "        \n",
    "        # View Blant - Altman\n",
    "        p=plot(x=mn,y=dd,Geom.point,yintercept=[ls, li],Geom.hline(color=[\"red\",\"red\"]),Guide.title(\"Bland-Altman\"))\n",
    "        img = SVG(\"img_muestras_$i-$j.svg\", 6inch, 4inch)\n",
    "        draw(img, p)\n",
    "        draw(PNG(\"img_muestras_$i-$j.png\", 6inch, 4inch), p)\n",
    "        \n",
    "    else\n",
    "        println(\"Las muestras no son del mismo tamaño...\")\n",
    "        \n",
    "    end\n",
    "end"
   ]
  },
  {
   "cell_type": "code",
   "execution_count": 8,
   "metadata": {},
   "outputs": [
    {
     "data": {
      "text/plain": [
       "ver_outliers (generic function with 1 method)"
      ]
     },
     "execution_count": 8,
     "metadata": {},
     "output_type": "execute_result"
    }
   ],
   "source": [
    "function ver_outliers(x,v1)    \n",
    "    outl=0\n",
    "    lsbox1=quantile(x,0.75)+1.5(quantile(x,.75)-quantile(x,.25))\n",
    "    libox1=quantile(x,0.25)-1.5(quantile(x,.75)-quantile(x,.25))\n",
    "    # a[a .> 4]\n",
    "    os=x[x .> lsbox1]\n",
    "    if length(os)>=1\n",
    "        println(\"Outliers: \",os,\" en muestra $v1 \")\n",
    "        outl=1\n",
    "    end\n",
    "    os=[]\n",
    "    oi=x[x .< libox1]\n",
    "    if length(oi)>=1\n",
    "        println(\"Outliers: \",oi,\" en muestra $v1 \")\n",
    "        outl=1\n",
    "    end\n",
    "    oi=[]\n",
    "    if outl==0\n",
    "        println(\"Sin outliers ...muestra $v1 \")\n",
    "    end\n",
    "end"
   ]
  },
  {
   "cell_type": "code",
   "execution_count": 9,
   "metadata": {},
   "outputs": [
    {
     "data": {
      "text/plain": [
       "ll (generic function with 1 method)"
      ]
     },
     "execution_count": 9,
     "metadata": {},
     "output_type": "execute_result"
    }
   ],
   "source": [
    "# coeficiente de de correlación de concordancia de Lawrence - Lin\n",
    "#\n",
    "function ll(x,y)\n",
    "    rc=(2*cov(x,y))/(var(x)+var(y)+(mean(x)-mean(y))^2)\n",
    "    print(\"Lawrence - Lin $rc \")\n",
    "    \n",
    "    if rc >= 0. && rc < 0.01\n",
    "        println(\"pobre --> Interpretación de Landis y Koch (1977)\")\n",
    "    elseif rc >=0.01 && rc<=0.20\n",
    "        println(\"leve  --> Interpretación de Landis y Koch (1977)\")\n",
    "    elseif rc>=0.21 && rc <=0.40\n",
    "        println(\"regular  --> Interpretación de Landis y Koch (1977)\")\n",
    "    elseif rc>=0.41 && rc<=0.60\n",
    "        println(\"moderado  --> Interpretación de Landis y Koch (1977)\")\n",
    "    elseif rc>=0.61 && rc<=0.80\n",
    "        println(\"substancial  --> Interpretación de Landis y Koch (1977)\")\n",
    "    elseif rc>=0.81 && rc<=1\n",
    "        println(\"casi perfecto  --> Interpretación de Landis y Koch (1977)\")\n",
    "    end\n",
    "end"
   ]
  },
  {
   "cell_type": "code",
   "execution_count": 25,
   "metadata": {
    "scrolled": true
   },
   "outputs": [
    {
     "name": "stdout",
     "output_type": "stream",
     "text": [
      "Sin outliers ...muestra 1 \n",
      "Sin outliers ...muestra 2 \n",
      "Pearson: 0.9993408977454561 casi perfecto  --> Interpretación de Landis y Koch (1977)\n",
      "Lawrence - Lin 0.999244478709616 casi perfecto  --> Interpretación de Landis y Koch (1977)\n",
      " imagen de muestras 1 2 guardada ...\n",
      "Sin outliers ...muestra 1 \n",
      "Sin outliers ...muestra 3 \n",
      "Pearson: 0.9992711791540291 casi perfecto  --> Interpretación de Landis y Koch (1977)\n",
      "Lawrence - Lin 0.9987109546635097 casi perfecto  --> Interpretación de Landis y Koch (1977)\n",
      " imagen de muestras 1 3 guardada ...\n",
      "Sin outliers ...muestra 2 \n",
      "Sin outliers ...muestra 3 \n",
      "Pearson: 0.997798524922192 casi perfecto  --> Interpretación de Landis y Koch (1977)\n",
      "Lawrence - Lin 0.9974396413115486 casi perfecto  --> Interpretación de Landis y Koch (1977)\n",
      " imagen de muestras 2 3 guardada ...\n"
     ]
    }
   ],
   "source": [
    "# realizar todas las combinaciones de 2\n",
    "# de todas las muestras disponibles\n",
    "\n",
    "muest   =ncol(df)\n",
    "muestm1 = muest-1\n",
    "i=1\n",
    "\n",
    "while i<=muestm1\n",
    "    j=i+1\n",
    "    while j<=muest\n",
    "       x = df[i]\n",
    "       y = df[j]\n",
    "       \n",
    "        ver_outliers(x,i)\n",
    "        ver_outliers(y,j)\n",
    "        co=cor(x,y) # coeficiente de correlación de PEARSON\n",
    "        print(\"Pearson: $co \")\n",
    "        if co >= 0. && co < 0.01\n",
    "            println(\"pobre --> Interpretación de Landis y Koch (1977)\")\n",
    "        elseif co >=0.01 && co<=0.20\n",
    "            println(\"leve  --> Interpretación de Landis y Koch (1977)\")\n",
    "        elseif co >=0.21 && co <=0.40\n",
    "            println(\"regular  --> Interpretación de Landis y Koch (1977)\")\n",
    "        elseif co >=0.41 && co <=0.60\n",
    "            println(\"moderado  --> Interpretación de Landis y Koch (1977)\")\n",
    "        elseif co >=0.61 && co <=0.80\n",
    "            println(\"substancial  --> Interpretación de Landis y Koch (1977)\")\n",
    "        elseif co >=0.81 && co <=1\n",
    "            println(\"casi perfecto  --> Interpretación de Landis y Koch (1977)\")\n",
    "        end\n",
    "        \n",
    "        bland_altman(x,y,i,j) # guarda las gráficas para verlas en el navegador\n",
    "        ll(x,y)   # coeficiente de correlación de  concordancia de Lawrence - Lin\n",
    "        println(\" imagen de muestras $i $j guardada ...\")\n",
    "        \n",
    "        j=j+1\n",
    "    end\n",
    "    i=i+1\n",
    "end \n",
    "\n"
   ]
  },
  {
   "cell_type": "code",
   "execution_count": 31,
   "metadata": {},
   "outputs": [
    {
     "data": {
      "text/plain": [
       "tablaval (generic function with 1 method)"
      ]
     },
     "execution_count": 31,
     "metadata": {},
     "output_type": "execute_result"
    }
   ],
   "source": [
    "#tabla de valoración\n",
    "function tablaval(x)\n",
    "    dest=(var(x))^(0.5)\n",
    "    media=mean(x)\n",
    "    dest1=media+dest\n",
    "    dest2=media+dest*2\n",
    "    dest3=media+dest*3\n",
    "    ndest1=media-dest\n",
    "    ndest2=media-dest*2\n",
    "    ndest3=media-dest*3\n",
    "     ff=x[x .> dest3] \n",
    "    f=length(ff)\n",
    "    println(\" $dest3 - o más     $f\")\n",
    "     ff=x[(x .> dest2) .& (x .<= dest3)] \n",
    "    f=length(ff)\n",
    "    println(\" $dest2 - $dest3     $f\")\n",
    "     ff=x[(x .> dest1) .& (x .<= dest2)] \n",
    "    f=length(ff)\n",
    "    println(\" $dest1 - $dest2     $f\")\n",
    "     ff=x[(x .> media) .& (x .<= dest1)] \n",
    "    f=length(ff)\n",
    "    println(\" $media - $dest1     $f\")\n",
    "    \n",
    "     ff=x[(x .> ndest1) .& (x .<= media)]\n",
    "    f=length(ff)\n",
    "    println(\" $ndest1 - $media     $f\")\n",
    "     ff=x[(x .> ndest2) .& (x .<= ndest1)] \n",
    "    f=length(ff)\n",
    "    println(\" $ndest2 - $ndest1     $f\")\n",
    "     ff=x[(x .> ndest3) .& (x .<= ndest2)]\n",
    "    f=length(ff)\n",
    "    println(\" $ndest3 - $ndest2     $f\")\n",
    "     ff=x[x .<= ndest3]\n",
    "    f=length(ff)\n",
    "    println(\" o menos - $ndest3     $f\")\n",
    "end"
   ]
  },
  {
   "cell_type": "code",
   "execution_count": 27,
   "metadata": {},
   "outputs": [
    {
     "data": {
      "text/plain": [
       "normalk2 (generic function with 1 method)"
      ]
     },
     "execution_count": 27,
     "metadata": {},
     "output_type": "execute_result"
    }
   ],
   "source": [
    "function normalk2(x,i)\n",
    "# D'Agostino-Pearson's K2 test for assessing normality of data using skewness and kurtosis.\n",
    "# Adaptado y traducido de http://welles.dm.unibo.it/~simoncin/DagosPtest.m\n",
    "alpha = 0.05\n",
    "n = length(x)\n",
    "s1=sum(x)\n",
    "s2 = sum(x.^2)\n",
    "s3 = sum(x.^3)\n",
    "s4 = sum(x.^4)\n",
    "ss = s2-(s1^2/n)\n",
    "v = ss/(n-1)\n",
    "k3 = ((n*s3)-(3*s1*s2)+((2*(s1^3))/n))/((n-1)*(n-2))\n",
    "g1 = k3/sqrt(v^3)\n",
    "k4 = ((n+1)*((n*s4)-(4*s1*s3)+(6*(s1^2)*(s2/n))-((3*(s1^4))/(n^2)))/((n-1)*(n-2)*(n-3)))-((3*(ss^2))/((n-2)*(n-3)))\n",
    "g2 = k4/v^2\n",
    "eg1 = ((n-2)*g1)/sqrt(n*(n-1))  #measure of skewness\n",
    "eg2 = ((n-2)*(n-3)*g2)/((n+1)*(n-1))+((3*(n-1))/(n+1))  #measure of kurtosis\n",
    "A = eg1*sqrt(((n+1)*(n+3))/(6*(n-2)))\n",
    "B = (3*((n^2)+(27*n)-70)*((n+1)*(n+3)))/((n-2)*(n+5)*(n+7)*(n+9))\n",
    "C = sqrt(2*(B-1))-1\n",
    "D = sqrt(C)\n",
    "E = 1/sqrt(log(D))\n",
    "F = A/sqrt(2/(C-1))\n",
    "Zg1 = E*log(F+sqrt(F^2+1))\n",
    "\n",
    "G = (24*n*(n-2)*(n-3))/((n+1)^2*(n+3)*(n+5))\n",
    "H = ((n-2)*(n-3)*abs(g2))/((n+1)*(n-1)*sqrt(G))\n",
    "J = ((6*(n^2-(5*n)+2))/((n+7)*(n+9)))*sqrt((6*(n+3)*(n+5))/((n*(n-2)*(n-3))))\n",
    "K = 6+((8/J)*((2/J)+sqrt(1+(4/J^2))))\n",
    "L = (1-(2/K))/(1+H*sqrt(2/(K-4)))\n",
    "Zg2 = (1-(2/(9*K))-L^(1/3))/sqrt(2/(9*K))\n",
    "\n",
    "K2 = Zg1^2 + Zg2^2  #D'Agostino-Pearson statistic\n",
    "X2 = K2  #approximation to chi-distribution\n",
    "\n",
    "df = 2.  #degrees of freedom\n",
    "P=1-ccdf(Chisq(df), X2)\n",
    "#println(\"P = $P \")\n",
    "if P>alpha\n",
    "    println(\"La muestra $i se distribuye normalmente ...\")\n",
    "    println(\"Tabla de Valoración    [NORMA]\")\n",
    "    println(\"Intervalos                            frecuencia\")\n",
    "    tablaval(x)\n",
    "        println()\n",
    "        println()\n",
    "else\n",
    "    println(\"La muestra $i NO viene de una distribución normal\")\n",
    "end\n",
    "end"
   ]
  },
  {
   "cell_type": "code",
   "execution_count": 28,
   "metadata": {
    "scrolled": true
   },
   "outputs": [
    {
     "name": "stdout",
     "output_type": "stream",
     "text": [
      "La muestra 1 se distribuye normalmente ...\n",
      "Tabla de Valoración    [NORMA]\n",
      "Intervalos                            frecuencia\n",
      " 9.662512472218438 - o más     0\n",
      " 7.698085237889215 - 9.662512472218438     0\n",
      " 5.733658003559992 - 7.698085237889215     3\n",
      " 3.769230769230769 - 5.733658003559992     4\n",
      " 1.8048035349015463 - 3.769230769230769     4\n",
      " -0.1596236994276765 - 1.8048035349015463     2\n",
      " -2.124050933756899 - -0.1596236994276765     0\n",
      " o menos - -2.124050933756899     0\n",
      "\n",
      "\n",
      "La muestra 2 se distribuye normalmente ...\n",
      "Tabla de Valoración    [NORMA]\n",
      "Intervalos                            frecuencia\n",
      " 9.596301773277634 - o más     0\n",
      " 7.6462524642363725 - 9.596301773277634     0\n",
      " 5.696203155195109 - 7.6462524642363725     3\n",
      " 3.746153846153846 - 5.696203155195109     4\n",
      " 1.796104537112583 - 3.746153846153846     4\n",
      " -0.15394477192868017 - 1.796104537112583     2\n",
      " -2.103994080969943 - -0.15394477192868017     0\n",
      " o menos - -2.103994080969943     0\n",
      "\n",
      "\n",
      "La muestra 3 se distribuye normalmente ...\n",
      "Tabla de Valoración    [NORMA]\n",
      "Intervalos                            frecuencia\n",
      " 9.659947232378709 - o más     0\n",
      " 7.675377616457601 - 9.659947232378709     0\n",
      " 5.690808000536492 - 7.675377616457601     3\n",
      " 3.7062383846153844 - 5.690808000536492     4\n",
      " 1.721668768694276 - 3.7062383846153844     4\n",
      " -0.2629008472268324 - 1.721668768694276     2\n",
      " -2.2474704631479407 - -0.2629008472268324     0\n",
      " o menos - -2.2474704631479407     0\n",
      "\n",
      "\n"
     ]
    }
   ],
   "source": [
    "# comprobar si todas las muestras provienen de la distribución normal\n",
    "ccc=ncol(df)\n",
    "i=1\n",
    "\n",
    "nren=length(df[1])\n",
    "while i<=ccc\n",
    "     x = df[i]\n",
    "     normalk2(x,i)\n",
    "     i=i+1\n",
    "end\n"
   ]
  },
  {
   "cell_type": "code",
   "execution_count": null,
   "metadata": {},
   "outputs": [],
   "source": []
  },
  {
   "cell_type": "code",
   "execution_count": 29,
   "metadata": {
    "scrolled": true
   },
   "outputs": [
    {
     "name": "stdout",
     "output_type": "stream",
     "text": [
      "Si F > p rechazar Ho: Las muestras tienen varianzas iguales ...\n",
      "\n",
      "Analysis of Variance Results\n",
      "\n",
      "Effect           SS  DF          MS           F         p          ω²\n",
      "---------------------------------------------------------------------\n",
      " Total  34.579       38                                              \n",
      "Groups   0.00485383   2  0.00242692  0.00252701  0.997476  -0.0539101\n",
      " Error  34.5741      36  0.960392                                    \n",
      "\n"
     ]
    }
   ],
   "source": [
    "mat1=convert(Matrix,df)\n",
    "# verificar igualdad de varianzas [Homocedasticidad]\n",
    "l=levene(mat1)\n",
    "println(\"Si F > p rechazar Ho: Las muestras tienen varianzas iguales ...\")\n",
    "# consultar : https://github.com/BioTurboNick/SimpleANOVA.jl\n",
    "println(l)"
   ]
  },
  {
   "cell_type": "code",
   "execution_count": 30,
   "metadata": {},
   "outputs": [
    {
     "name": "stdout",
     "output_type": "stream",
     "text": [
      "Si F > p rechazar Ho: Las muestras tienen medias iguales ...\n",
      "\n",
      "Analysis of Variance Results\n",
      "\n",
      "Effect           SS  DF         MS           F         p          ω²\n",
      "--------------------------------------------------------------------\n",
      " Total  139.229      38                                             \n",
      "     A    0.0264066   2  0.0132033  0.00341459  0.996592  -0.0538595\n",
      " Error  139.202      36  3.86673                                    \n",
      "\n"
     ]
    }
   ],
   "source": [
    "# verificar igualdad de promedios  [ANOVA de una vía]\n",
    "p=anova(mat1)\n",
    "println(\"Si F > p rechazar Ho: Las muestras tienen medias iguales ...\")\n",
    "# consultar : https://github.com/BioTurboNick/SimpleANOVA.jl\n",
    "println(p)"
   ]
  },
  {
   "cell_type": "code",
   "execution_count": null,
   "metadata": {},
   "outputs": [],
   "source": []
  },
  {
   "cell_type": "code",
   "execution_count": null,
   "metadata": {},
   "outputs": [],
   "source": []
  }
 ],
 "metadata": {
  "kernelspec": {
   "display_name": "Julia 1.5.3",
   "language": "julia",
   "name": "julia-1.5"
  },
  "language_info": {
   "file_extension": ".jl",
   "mimetype": "application/julia",
   "name": "julia",
   "version": "1.5.3"
  }
 },
 "nbformat": 4,
 "nbformat_minor": 2
}
